{
  "nbformat": 4,
  "nbformat_minor": 0,
  "metadata": {
    "colab": {
      "name": "ConfusionMatrix_4_30.ipynb",
      "provenance": [],
      "collapsed_sections": [],
      "authorship_tag": "ABX9TyPkmAtglD0qjoBO4acSYNy8",
      "include_colab_link": true
    },
    "kernelspec": {
      "name": "python3",
      "display_name": "Python 3"
    },
    "language_info": {
      "name": "python"
    },
    "accelerator": "GPU"
  },
  "cells": [
    {
      "cell_type": "markdown",
      "metadata": {
        "id": "view-in-github",
        "colab_type": "text"
      },
      "source": [
        "<a href=\"https://colab.research.google.com/github/gani0325/machine_learing/blob/main/ConfusionMatrix_4_30.ipynb\" target=\"_parent\"><img src=\"https://colab.research.google.com/assets/colab-badge.svg\" alt=\"Open In Colab\"/></a>"
      ]
    },
    {
      "cell_type": "code",
      "metadata": {
        "colab": {
          "base_uri": "https://localhost:8080/"
        },
        "id": "GH0yf3XyXlHL",
        "outputId": "e7033889-c6b8-4d4e-be8a-56f60cba21b3"
      },
      "source": [
        "!git clone https://github.com/gani0325/machine_learing.git"
      ],
      "execution_count": 1,
      "outputs": [
        {
          "output_type": "stream",
          "text": [
            "Cloning into 'machine_learing'...\n",
            "remote: Enumerating objects: 3, done.\u001b[K\n",
            "remote: Counting objects: 100% (3/3), done.\u001b[K\n",
            "remote: Total 3 (delta 0), reused 0 (delta 0), pack-reused 0\u001b[K\n",
            "Unpacking objects: 100% (3/3), done.\n"
          ],
          "name": "stdout"
        }
      ]
    },
    {
      "cell_type": "markdown",
      "metadata": {
        "id": "_qn6LyAnG4Fn"
      },
      "source": [
        "# Binary confusion"
      ]
    },
    {
      "cell_type": "code",
      "metadata": {
        "colab": {
          "base_uri": "https://localhost:8080/"
        },
        "id": "tX4xf3ilGeF1",
        "outputId": "ffbc3635-ae38-46d6-df60-baa462b2f42d"
      },
      "source": [
        "from sklearn.metrics import confusion_matrix\n",
        "\n",
        "y_true = [ 1, 0, 1, 1, 0, 1]\n",
        "y_pred = [ 0, 0, 1, 1, 0, 1]\n",
        "\n",
        "cm = confusion_matrix(y_true, y_pred)\n",
        "cm"
      ],
      "execution_count": 5,
      "outputs": [
        {
          "output_type": "execute_result",
          "data": {
            "text/plain": [
              "array([[2, 0],\n",
              "       [1, 3]])"
            ]
          },
          "metadata": {
            "tags": []
          },
          "execution_count": 5
        }
      ]
    },
    {
      "cell_type": "code",
      "metadata": {
        "colab": {
          "base_uri": "https://localhost:8080/"
        },
        "id": "BBaEJ45kIE3g",
        "outputId": "11cfbf5b-5aa2-459a-e476-fa29618de766"
      },
      "source": [
        "import numpy as np\n",
        "np.sum(cm, axis = 1)"
      ],
      "execution_count": 6,
      "outputs": [
        {
          "output_type": "execute_result",
          "data": {
            "text/plain": [
              "array([2, 4])"
            ]
          },
          "metadata": {
            "tags": []
          },
          "execution_count": 6
        }
      ]
    },
    {
      "cell_type": "code",
      "metadata": {
        "colab": {
          "base_uri": "https://localhost:8080/"
        },
        "id": "svbkJhRZG3m4",
        "outputId": "7f9cc12d-6900-4954-9494-0dbe44c244fb"
      },
      "source": [
        "true_negative, false_positive, false_negative, true_positive = cm.ravel() # ravel : 일자로 펴기\n",
        "print(true_negative, false_positive, false_negative, true_positive)"
      ],
      "execution_count": 2,
      "outputs": [
        {
          "output_type": "stream",
          "text": [
            "2 0 1 3\n"
          ],
          "name": "stdout"
        }
      ]
    },
    {
      "cell_type": "code",
      "metadata": {
        "id": "Fnpdf1jZGw0k"
      },
      "source": [
        ""
      ],
      "execution_count": 6,
      "outputs": []
    },
    {
      "cell_type": "code",
      "metadata": {
        "id": "JXMrAeIqJrCQ"
      },
      "source": [
        ""
      ],
      "execution_count": null,
      "outputs": []
    },
    {
      "cell_type": "code",
      "metadata": {
        "id": "RGX8F7MNKSQZ"
      },
      "source": [
        ""
      ],
      "execution_count": null,
      "outputs": []
    },
    {
      "cell_type": "code",
      "metadata": {
        "id": "agoWPeZ3JrHx"
      },
      "source": [
        ""
      ],
      "execution_count": null,
      "outputs": []
    },
    {
      "cell_type": "code",
      "metadata": {
        "id": "OTaZTsdvJrKJ"
      },
      "source": [
        ""
      ],
      "execution_count": null,
      "outputs": []
    },
    {
      "cell_type": "markdown",
      "metadata": {
        "id": "ehLCUhBIJAhB"
      },
      "source": [
        "# Multi_class Classification"
      ]
    },
    {
      "cell_type": "code",
      "metadata": {
        "id": "Gsqo9uQJKVT9"
      },
      "source": [
        "y_true = [0, 1, 2, 0, 1, 2, 0]\n",
        "y_pred = [0, 2, 1, 0, 0 ,1, 1]"
      ],
      "execution_count": 16,
      "outputs": []
    },
    {
      "cell_type": "code",
      "metadata": {
        "colab": {
          "base_uri": "https://localhost:8080/"
        },
        "id": "Dq0Iop5eJAwZ",
        "outputId": "a247d87c-e2f0-4235-a521-a3aeb36fb121"
      },
      "source": [
        "cm = confusion_matrix(y_true, y_pred)\n",
        "cm"
      ],
      "execution_count": 17,
      "outputs": [
        {
          "output_type": "execute_result",
          "data": {
            "text/plain": [
              "array([[2, 1, 0],\n",
              "       [1, 0, 1],\n",
              "       [0, 2, 0]])"
            ]
          },
          "metadata": {
            "tags": []
          },
          "execution_count": 17
        }
      ]
    },
    {
      "cell_type": "code",
      "metadata": {
        "id": "8sPfeKNVJAzZ"
      },
      "source": [
        ""
      ],
      "execution_count": null,
      "outputs": []
    },
    {
      "cell_type": "markdown",
      "metadata": {
        "id": "rMwhxwsCLHO6"
      },
      "source": [
        "# Metrics\n",
        "### 명사\n",
        "##### 1. 수학 계량, 거리 (함수)\n",
        "##### 2. 측정의 기준"
      ]
    },
    {
      "cell_type": "markdown",
      "metadata": {
        "id": "Dq2GKL7KPG4N"
      },
      "source": [
        "# 1) accuracy\n",
        "#### 지나치게 평균된게 skewed dataset\n",
        "#### Accuracy is generally not the preferred performance measure for classifiers, esepically when we are dealing with skewed dataset\n",
        "#### when some classes are much more frequent than others"
      ]
    },
    {
      "cell_type": "code",
      "metadata": {
        "colab": {
          "base_uri": "https://localhost:8080/"
        },
        "id": "CC3uO-43LKt6",
        "outputId": "6ef5dbce-9a27-4ec9-b67c-767f05204e43"
      },
      "source": [
        "from sklearn.metrics import accuracy_score, precision_score, recall_score\n",
        "accuracy_score(y_true, y_pred)"
      ],
      "execution_count": 19,
      "outputs": [
        {
          "output_type": "execute_result",
          "data": {
            "text/plain": [
              "0.2857142857142857"
            ]
          },
          "metadata": {
            "tags": []
          },
          "execution_count": 19
        }
      ]
    },
    {
      "cell_type": "code",
      "metadata": {
        "colab": {
          "base_uri": "https://localhost:8080/"
        },
        "id": "eUovuQixNj0u",
        "outputId": "27558ca6-4d4a-469f-a14c-fbd3a59f156e"
      },
      "source": [
        "2/len(y_true)"
      ],
      "execution_count": 23,
      "outputs": [
        {
          "output_type": "execute_result",
          "data": {
            "text/plain": [
              "0.2857142857142857"
            ]
          },
          "metadata": {
            "tags": []
          },
          "execution_count": 23
        }
      ]
    },
    {
      "cell_type": "markdown",
      "metadata": {
        "id": "Ie1sQqdUPTvG"
      },
      "source": [
        "# 2) Precision\n",
        "#### Precision is the accuracy of the positive predictions\n",
        "#### precision = TP/(TP+FP)\n",
        "#### 확실한 것만"
      ]
    },
    {
      "cell_type": "code",
      "metadata": {
        "colab": {
          "base_uri": "https://localhost:8080/"
        },
        "id": "yaYa1V0HLiZF",
        "outputId": "0a26d432-04eb-4d73-da83-441810372eab"
      },
      "source": [
        "precision_score(y_true, y_pred, average = None) # 각각 precision 한것, None"
      ],
      "execution_count": 21,
      "outputs": [
        {
          "output_type": "execute_result",
          "data": {
            "text/plain": [
              "array([0.66666667, 0.        , 0.        ])"
            ]
          },
          "metadata": {
            "tags": []
          },
          "execution_count": 21
        }
      ]
    },
    {
      "cell_type": "code",
      "metadata": {
        "colab": {
          "base_uri": "https://localhost:8080/"
        },
        "id": "Zz8EPAkSMhWi",
        "outputId": "247dc50c-a49a-41a2-b930-f3e26d6e1d55"
      },
      "source": [
        "precision_score(y_true, y_pred, average = 'micro')# confusion matrix의 대각선 요소들 더한 후 이를 전체 갯수로 나눔. accuracy와 비슷"
      ],
      "execution_count": 24,
      "outputs": [
        {
          "output_type": "execute_result",
          "data": {
            "text/plain": [
              "0.2857142857142857"
            ]
          },
          "metadata": {
            "tags": []
          },
          "execution_count": 24
        }
      ]
    },
    {
      "cell_type": "code",
      "metadata": {
        "colab": {
          "base_uri": "https://localhost:8080/"
        },
        "id": "jU8LWUUfN2P1",
        "outputId": "8c926c2a-52e9-4ecb-bde6-4406b75a49e1"
      },
      "source": [
        "precision_score(y_true, y_pred, average = 'macro')# 각 class의 precision을 구하고 이를 average"
      ],
      "execution_count": 25,
      "outputs": [
        {
          "output_type": "execute_result",
          "data": {
            "text/plain": [
              "0.2222222222222222"
            ]
          },
          "metadata": {
            "tags": []
          },
          "execution_count": 25
        }
      ]
    },
    {
      "cell_type": "markdown",
      "metadata": {
        "id": "Ia0Ik7krRJ6O"
      },
      "source": [
        "# 3) Recall\n",
        "#### Recall is the ratio of positive instances that are correctly detected by classifier.\n",
        "#### - sensitivity\n",
        "#### - true positive rate"
      ]
    },
    {
      "cell_type": "code",
      "metadata": {
        "colab": {
          "base_uri": "https://localhost:8080/"
        },
        "id": "UIlMUrB6PgNF",
        "outputId": "388c6433-4376-40eb-8c38-3906d65042fa"
      },
      "source": [
        "recall_score(y_true, y_pred, average = None)"
      ],
      "execution_count": 26,
      "outputs": [
        {
          "output_type": "execute_result",
          "data": {
            "text/plain": [
              "array([0.66666667, 0.        , 0.        ])"
            ]
          },
          "metadata": {
            "tags": []
          },
          "execution_count": 26
        }
      ]
    },
    {
      "cell_type": "code",
      "metadata": {
        "colab": {
          "base_uri": "https://localhost:8080/"
        },
        "id": "n4qmefqbPgSM",
        "outputId": "440949e3-cdb9-45d0-a073-748fd8a6e063"
      },
      "source": [
        "recall_score(y_true, y_pred, average = 'micro') # confusion matrix의 대각선 요소들 더한 후 이를 전체 갯수로 나눔"
      ],
      "execution_count": 27,
      "outputs": [
        {
          "output_type": "execute_result",
          "data": {
            "text/plain": [
              "0.2857142857142857"
            ]
          },
          "metadata": {
            "tags": []
          },
          "execution_count": 27
        }
      ]
    },
    {
      "cell_type": "code",
      "metadata": {
        "colab": {
          "base_uri": "https://localhost:8080/"
        },
        "id": "0Sr6GGdEPgWc",
        "outputId": "b2bb9bfa-90d3-4705-eb5d-eedc9fc41a94"
      },
      "source": [
        "recall_score(y_true, y_pred, average = 'macro')# 각 class의 precision을 구하고 이를 average"
      ],
      "execution_count": 28,
      "outputs": [
        {
          "output_type": "execute_result",
          "data": {
            "text/plain": [
              "0.2222222222222222"
            ]
          },
          "metadata": {
            "tags": []
          },
          "execution_count": 28
        }
      ]
    },
    {
      "cell_type": "code",
      "metadata": {
        "id": "CFhEDx0-PgZM"
      },
      "source": [
        "# parameter\n",
        "# binary : only report results for the class specified by pos_label\n",
        "# micro : cacluate metrics globally\n",
        "# macro : each label\n",
        "# weighted : calculate metrics each label"
      ],
      "execution_count": 29,
      "outputs": []
    },
    {
      "cell_type": "markdown",
      "metadata": {
        "id": "ZatDw6vXQ0WP"
      },
      "source": [
        "# 4) F score\n",
        "#### F 2 score 은 recall 을 보다 중시\n",
        "#### F 0.5 score는 precision을 보다 중시\n",
        "#### F 베타 score = (B^2 + 1)(precision)(Recall)/(B^2Precision + Recall)"
      ]
    },
    {
      "cell_type": "code",
      "metadata": {
        "id": "gpbXLynUQRQf"
      },
      "source": [
        "from sklearn.metrics import fbeta_score"
      ],
      "execution_count": 30,
      "outputs": []
    },
    {
      "cell_type": "code",
      "metadata": {
        "colab": {
          "base_uri": "https://localhost:8080/"
        },
        "id": "DLqR0N3yQRTP",
        "outputId": "e16eeebd-cfb0-4138-d1bb-b4dca0cc2efe"
      },
      "source": [
        "fbeta_score(y_true, y_pred, beta = 1, average = 'weighted')"
      ],
      "execution_count": 31,
      "outputs": [
        {
          "output_type": "execute_result",
          "data": {
            "text/plain": [
              "0.2857142857142857"
            ]
          },
          "metadata": {
            "tags": []
          },
          "execution_count": 31
        }
      ]
    },
    {
      "cell_type": "code",
      "metadata": {
        "colab": {
          "base_uri": "https://localhost:8080/"
        },
        "id": "pKJXBJNpQRYX",
        "outputId": "4c1f517a-0c96-4a8f-a546-e540aa734317"
      },
      "source": [
        "fbeta_score(y_true, y_pred, beta = 0.5, average = 'weighted')"
      ],
      "execution_count": 32,
      "outputs": [
        {
          "output_type": "execute_result",
          "data": {
            "text/plain": [
              "0.2857142857142857"
            ]
          },
          "metadata": {
            "tags": []
          },
          "execution_count": 32
        }
      ]
    },
    {
      "cell_type": "code",
      "metadata": {
        "colab": {
          "base_uri": "https://localhost:8080/"
        },
        "id": "HG7KJUOLQRbV",
        "outputId": "d1c3af95-abf0-4411-8b86-25aece950dd1"
      },
      "source": [
        "fbeta_score(y_true, y_pred, beta = 2, average = 'weighted')"
      ],
      "execution_count": 33,
      "outputs": [
        {
          "output_type": "execute_result",
          "data": {
            "text/plain": [
              "0.2857142857142857"
            ]
          },
          "metadata": {
            "tags": []
          },
          "execution_count": 33
        }
      ]
    },
    {
      "cell_type": "code",
      "metadata": {
        "id": "nUzgvDTCQRgV"
      },
      "source": [
        ""
      ],
      "execution_count": null,
      "outputs": []
    },
    {
      "cell_type": "markdown",
      "metadata": {
        "id": "orJD6KCZRTZO"
      },
      "source": [
        "# 5) Display"
      ]
    },
    {
      "cell_type": "code",
      "metadata": {
        "colab": {
          "base_uri": "https://localhost:8080/",
          "height": 282
        },
        "id": "4v_14i33RSLX",
        "outputId": "2b4f18eb-59f4-4d30-da9b-d16d9c411e1f"
      },
      "source": [
        "import matplotlib.pyplot as plt\n",
        "\n",
        "plt.matshow(cm)\n",
        "plt.colorbar()"
      ],
      "execution_count": 36,
      "outputs": [
        {
          "output_type": "execute_result",
          "data": {
            "text/plain": [
              "<matplotlib.colorbar.Colorbar at 0x7f2041e9ac10>"
            ]
          },
          "metadata": {
            "tags": []
          },
          "execution_count": 36
        },
        {
          "output_type": "display_data",
          "data": {
            "image/png": "[encoded data removed]",
            "text/plain": [
              "<Figure size 288x288 with 2 Axes>"
            ]
          },
          "metadata": {
            "tags": [],
            "needs_background": "light"
          }
        }
      ]
    },
    {
      "cell_type": "code",
      "metadata": {
        "colab": {
          "base_uri": "https://localhost:8080/"
        },
        "id": "YDObaRFCRSOO",
        "outputId": "5a03ea3c-273c-4bf7-d008-bd212d9d05ee"
      },
      "source": [
        "row_sums = cm.sum(axis = 1, keepdims=True)\n",
        "row_sums"
      ],
      "execution_count": 37,
      "outputs": [
        {
          "output_type": "execute_result",
          "data": {
            "text/plain": [
              "array([[3],\n",
              "       [2],\n",
              "       [2]])"
            ]
          },
          "metadata": {
            "tags": []
          },
          "execution_count": 37
        }
      ]
    },
    {
      "cell_type": "code",
      "metadata": {
        "id": "lkhB643uRSTO"
      },
      "source": [
        ""
      ],
      "execution_count": null,
      "outputs": []
    },
    {
      "cell_type": "code",
      "metadata": {
        "id": "WZftX_NSRSZf"
      },
      "source": [
        ""
      ],
      "execution_count": null,
      "outputs": []
    },
    {
      "cell_type": "code",
      "metadata": {
        "id": "MvMYGpcNRSbt"
      },
      "source": [
        ""
      ],
      "execution_count": null,
      "outputs": []
    }
  ]
}